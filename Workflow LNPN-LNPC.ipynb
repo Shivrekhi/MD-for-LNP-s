{
 "cells": [
  {
   "cell_type": "markdown",
   "metadata": {},
   "source": [
    "# <centre>WORKFLOW</centre>\n",
    "    "
   ]
  },
  {
   "cell_type": "markdown",
   "metadata": {},
   "source": [
    "## Generate initial configuration"
   ]
  },
  {
   "cell_type": "code",
   "execution_count": null,
   "metadata": {},
   "outputs": [],
   "source": [
    "!gmx insert-molecules -ci LNPN.gro -box 15 15 15 -nmol 200 -radius 0.21 -try 1000 -o LNPN-final.gro "
   ]
  },
  {
   "cell_type": "code",
   "execution_count": null,
   "metadata": {},
   "outputs": [],
   "source": [
    "!gmx insert-molecules -f LNPN-final.gro -ci RNA-center.gro -box 17 17 17 -nmol 1 -radius 0.21 -try 1000 -o LNPC-final.gro "
   ]
  },
  {
   "cell_type": "code",
   "execution_count": null,
   "metadata": {},
   "outputs": [],
   "source": [
    "!gmx insert-molecules -f LNPN-final.gro -ci DPPC.gro -box 15 15 15 -nmol 40 -radius 0.21 -try 500 -o DPPC-final.gro "
   ]
  },
  {
   "cell_type": "code",
   "execution_count": null,
   "metadata": {},
   "outputs": [],
   "source": [
    "!gmx insert-molecules -f DPPC-final.gro -ci CHOL.gro -box 15 15 15 -nmol 160 -radius 0.21 -try 1000 -o system.gro "
   ]
  },
  {
   "cell_type": "markdown",
   "metadata": {},
   "source": [
    "## Solvate and Ionize"
   ]
  },
  {
   "cell_type": "code",
   "execution_count": null,
   "metadata": {
    "scrolled": true
   },
   "outputs": [],
   "source": [
    "!gmx solvate -cp system.gro -cs water.gro -p lnpn-dipc-chol.top -box 15 15 15 -radius 0.21 -o system-sol.gro"
   ]
  },
  {
   "cell_type": "markdown",
   "metadata": {},
   "source": [
    "### Run script to replace water molecules with antifreeze beads"
   ]
  },
  {
   "cell_type": "code",
   "execution_count": null,
   "metadata": {},
   "outputs": [],
   "source": [
    "!python temp.py"
   ]
  },
  {
   "cell_type": "code",
   "execution_count": null,
   "metadata": {},
   "outputs": [],
   "source": [
    "!{\"gmx genion -s system-sol-min.tpr -p lnpn-dipc-chol.top -pname NA+ -nname CL- -neutral -o system-sol-ion.gro <<EOF\\n5\\\\nEOF\"}"
   ]
  },
  {
   "cell_type": "markdown",
   "metadata": {},
   "source": [
    "## Minimization"
   ]
  },
  {
   "cell_type": "code",
   "execution_count": null,
   "metadata": {},
   "outputs": [],
   "source": [
    "!gmx grompp -f em.mdp -c system-sol-ion.gro -p lnpn-dipc-chol.top -o system-sol-ion.tpr -maxwarn 1"
   ]
  },
  {
   "cell_type": "code",
   "execution_count": null,
   "metadata": {},
   "outputs": [],
   "source": [
    "!gmx mdrun -deffnm system-ion-min -s system-sol-ion.tpr -v -c system-ion-min.gro"
   ]
  },
  {
   "cell_type": "markdown",
   "metadata": {},
   "source": [
    "## Equilibriation"
   ]
  },
  {
   "cell_type": "code",
   "execution_count": null,
   "metadata": {},
   "outputs": [],
   "source": [
    "!{\"gmx grompp -f nvt.mdp -c system-sol-min.gro -n index.ndx -r system-sol.gro -p lnpn-dipc-chol.top -o nvt.tpr\"}"
   ]
  },
  {
   "cell_type": "code",
   "execution_count": null,
   "metadata": {},
   "outputs": [],
   "source": [
    "!{\"gmx mdrun -v -deffnm nvt\"}"
   ]
  },
  {
   "cell_type": "code",
   "execution_count": null,
   "metadata": {},
   "outputs": [],
   "source": [
    "!{\"gmx grompp -f npt.mdp -n index.ndx -c nvt.gro -r nvt.gro -p lnpn-dipc-chol.top -t nvt -o npt.tpr -maxwarn 1\"}"
   ]
  },
  {
   "cell_type": "code",
   "execution_count": null,
   "metadata": {
    "scrolled": true
   },
   "outputs": [],
   "source": [
    "!{\"gmx mdrun -v -deffnm npt\"}"
   ]
  },
  {
   "cell_type": "markdown",
   "metadata": {},
   "source": [
    "## Generate production run .tpr file "
   ]
  },
  {
   "cell_type": "code",
   "execution_count": null,
   "metadata": {
    "scrolled": true
   },
   "outputs": [],
   "source": [
    "!{\"gmx grompp -f martini_md.mdp -n index.ndx -c npt.gro -r npt.gro -p lnpn-dipc-chol.top -o md.tpr -maxwarn 1\"}"
   ]
  },
  {
   "cell_type": "markdown",
   "metadata": {},
   "source": [
    "## Pass the file to the GPU "
   ]
  },
  {
   "cell_type": "code",
   "execution_count": null,
   "metadata": {},
   "outputs": [],
   "source": [
    "!{\" sshpass -p \\\"shivrekhi\\\" rsync -zarvh md.tpr shivrekhi@128.2.54.30:~/GMXworkspace/LNPN-freestate\"}"
   ]
  }
 ],
 "metadata": {
  "kernelspec": {
   "display_name": "Python 3",
   "language": "python",
   "name": "python3"
  },
  "language_info": {
   "codemirror_mode": {
    "name": "ipython",
    "version": 3
   },
   "file_extension": ".py",
   "mimetype": "text/x-python",
   "name": "python",
   "nbconvert_exporter": "python",
   "pygments_lexer": "ipython3",
   "version": "3.7.3"
  }
 },
 "nbformat": 4,
 "nbformat_minor": 2
}
